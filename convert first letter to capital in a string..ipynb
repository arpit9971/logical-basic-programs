{
 "cells": [
  {
   "cell_type": "code",
   "execution_count": 3,
   "metadata": {},
   "outputs": [
    {
     "name": "stdout",
     "output_type": "stream",
     "text": [
      "arpit is a good boy\n",
      "Arpit is a good boy\n"
     ]
    }
   ],
   "source": [
    "def capitalize(string):\n",
    "    for word in string.split():\n",
    "        string=string.replace(word,word.capitalize())\n",
    "        return string\n",
    "s=input()\n",
    "print(capitalize(s))"
   ]
  },
  {
   "cell_type": "code",
   "execution_count": 4,
   "metadata": {},
   "outputs": [
    {
     "name": "stdout",
     "output_type": "stream",
     "text": [
      "enter the stringarpit is a good boy\n",
      " Arpit Is A Good Boy\n"
     ]
    }
   ],
   "source": [
    "st=input(\"enter the string\")\n",
    "st=\" \"+st\n",
    "length=len(st)\n",
    "new_st=\"\"\n",
    "i=0\n",
    "while(i<length):\n",
    "    if st[i]==' ':\n",
    "        new_st=new_st+\" \"+ st[i+1].upper()\n",
    "        i=i+1\n",
    "    else:\n",
    "        new_st=new_st+st[i]\n",
    "    i=i+1\n",
    "print(new_st) \n",
    "    \n",
    "    "
   ]
  }
 ],
 "metadata": {
  "kernelspec": {
   "display_name": "Python 3",
   "language": "python",
   "name": "python3"
  },
  "language_info": {
   "codemirror_mode": {
    "name": "ipython",
    "version": 3
   },
   "file_extension": ".py",
   "mimetype": "text/x-python",
   "name": "python",
   "nbconvert_exporter": "python",
   "pygments_lexer": "ipython3",
   "version": "3.7.3"
  }
 },
 "nbformat": 4,
 "nbformat_minor": 2
}
