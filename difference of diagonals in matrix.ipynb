{
 "cells": [
  {
   "cell_type": "code",
   "execution_count": 10,
   "metadata": {},
   "outputs": [
    {
     "name": "stdout",
     "output_type": "stream",
     "text": [
      "The difference between diagonals is = 5\n"
     ]
    }
   ],
   "source": [
    "### input matrix of 3*3 size\n",
    "import numpy as np\n",
    "l=[7,3,7,1,5,9,3,2,8]\n",
    "matrix = np.array(l).reshape(3,3)\n",
    "d1=0 #diagonal1\n",
    "d2=0 #diagonal2\n",
    "n=3     # n=3 bcoz matrix 3*3 and sum of diagonals could be found for square matrix i.e 2*2,3*3,5*5...\n",
    "for i in range (0,n):\n",
    "    for j in range(0,n):\n",
    "            if(i==j):   #condition for right diagonal\n",
    "                d1+=matrix[i][j] \n",
    "                \n",
    "            if i==n-j-1: \n",
    "                d2+=matrix[i][j] \n",
    "ans=abs(d1-d2)\n",
    "print(\"The difference between diagonals is =\",ans)"
   ]
  },
  {
   "cell_type": "code",
   "execution_count": 24,
   "metadata": {},
   "outputs": [
    {
     "name": "stdout",
     "output_type": "stream",
     "text": [
      "\n"
     ]
    }
   ],
   "source": []
  },
  {
   "cell_type": "code",
   "execution_count": 23,
   "metadata": {},
   "outputs": [
    {
     "name": "stdout",
     "output_type": "stream",
     "text": [
      "\n"
     ]
    }
   ],
   "source": []
  }
 ],
 "metadata": {
  "kernelspec": {
   "display_name": "Python 3",
   "language": "python",
   "name": "python3"
  },
  "language_info": {
   "codemirror_mode": {
    "name": "ipython",
    "version": 3
   },
   "file_extension": ".py",
   "mimetype": "text/x-python",
   "name": "python",
   "nbconvert_exporter": "python",
   "pygments_lexer": "ipython3",
   "version": "3.7.3"
  }
 },
 "nbformat": 4,
 "nbformat_minor": 2
}
