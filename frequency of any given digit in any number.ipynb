{
 "cells": [
  {
   "cell_type": "code",
   "execution_count": 1,
   "metadata": {},
   "outputs": [
    {
     "name": "stdout",
     "output_type": "stream",
     "text": [
      "enter the number 47558741264777489654\n",
      "enter the digit you want the frequency of:7\n",
      "5\n"
     ]
    }
   ],
   "source": [
    "def count_digit(n,d):\n",
    "    count=0\n",
    "    while(n>0):\n",
    "        r=n%10\n",
    "        if r==d:\n",
    "            count=count+1\n",
    "        n=int(n/10)\n",
    "    return count\n",
    "n=int(input(\"enter the number \"))\n",
    "d=int(input(\"enter the digit you want the frequency of:\"))\n",
    "ans=count_digit(n,d)\n",
    "print(ans)"
   ]
  }
 ],
 "metadata": {
  "kernelspec": {
   "display_name": "Python 3",
   "language": "python",
   "name": "python3"
  },
  "language_info": {
   "codemirror_mode": {
    "name": "ipython",
    "version": 3
   },
   "file_extension": ".py",
   "mimetype": "text/x-python",
   "name": "python",
   "nbconvert_exporter": "python",
   "pygments_lexer": "ipython3",
   "version": "3.7.3"
  }
 },
 "nbformat": 4,
 "nbformat_minor": 2
}
