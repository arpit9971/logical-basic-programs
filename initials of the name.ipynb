{
 "cells": [
  {
   "cell_type": "code",
   "execution_count": 6,
   "metadata": {},
   "outputs": [
    {
     "name": "stdout",
     "output_type": "stream",
     "text": [
      "Enter your name:shubham kumar soni\n",
      " S.K.S\n"
     ]
    }
   ],
   "source": [
    "# W.A.P to find the initials of the name.\n",
    "# if input is : ankit kumar singh then output: A.K.S\n",
    "str=input(\"Enter your name:\")\n",
    "new_str=str.split() # All words will get stored in form of list in new_str.\n",
    "l=len(new_str)\n",
    "res_str=\" \"\n",
    "for i in range(l):\n",
    "    m=new_str[i]   # m will represnt each word present in new_str.\n",
    "    if i==l-1:     # this is done so that dot should not come after the last word of string\n",
    "        res_str=res_str+m[0].upper()\n",
    "    else:\n",
    "        res_str=res_str+m[0].upper()+\".\"\n",
    "print(res_str)"
   ]
  },
  {
   "cell_type": "code",
   "execution_count": null,
   "metadata": {},
   "outputs": [],
   "source": []
  },
  {
   "cell_type": "code",
   "execution_count": null,
   "metadata": {},
   "outputs": [],
   "source": []
  }
 ],
 "metadata": {
  "kernelspec": {
   "display_name": "Python 3",
   "language": "python",
   "name": "python3"
  },
  "language_info": {
   "codemirror_mode": {
    "name": "ipython",
    "version": 3
   },
   "file_extension": ".py",
   "mimetype": "text/x-python",
   "name": "python",
   "nbconvert_exporter": "python",
   "pygments_lexer": "ipython3",
   "version": "3.7.3"
  }
 },
 "nbformat": 4,
 "nbformat_minor": 2
}
