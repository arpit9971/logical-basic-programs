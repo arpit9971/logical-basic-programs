{
 "cells": [
  {
   "cell_type": "code",
   "execution_count": 8,
   "metadata": {},
   "outputs": [
    {
     "name": "stdout",
     "output_type": "stream",
     "text": [
      "Enter the first number:12\n",
      "Enter the second number:30\n",
      "The HCF of 12 and 30 is =6 \n"
     ]
    }
   ],
   "source": [
    "def hcf(n1,n2):\n",
    "    hcf=1\n",
    "    m=min(n1,n2)\n",
    "    for i in range(1,m+1):\n",
    "        if n1%i==0 and n2%i==0:\n",
    "            hcf=i\n",
    "    return hcf\n",
    "n1=int(input(\"Enter the first number:\"))\n",
    "n2=int(input(\"Enter the second number:\"))\n",
    "ans=hcf(n1,n2)\n",
    "print(\"The HCF of %d and %d is =%d \" %(n1,n2,ans))"
   ]
  },
  {
   "cell_type": "code",
   "execution_count": null,
   "metadata": {},
   "outputs": [],
   "source": []
  },
  {
   "cell_type": "code",
   "execution_count": 9,
   "metadata": {},
   "outputs": [
    {
     "name": "stdout",
     "output_type": "stream",
     "text": [
      "Enter the first number:12\n",
      "Enter the second number:30\n",
      "The HCF of 12 and 30 is =60 \n"
     ]
    }
   ],
   "source": [
    "\"\"\"L.C.M. of two numbers METHOD1. \n",
    "using the formula (H.C.F*L.C.M=product of two numbers)\"\"\"\n",
    "def hcf(n1,n2):\n",
    "    hcf=1\n",
    "    m=min(n1,n2)\n",
    "    for i in range(1,m+1):\n",
    "        if n1%i==0 and n2%i==0:\n",
    "            hcf=i\n",
    "    return hcf\n",
    "n1=int(input(\"Enter the first number:\"))\n",
    "n2=int(input(\"Enter the second number:\"))\n",
    "hcf=hcf(n1,n2)\n",
    "lcm=(n1*n2)/hcf\n",
    "print(\"The HCF of %d and %d is =%d \" %(n1,n2,lcm))"
   ]
  },
  {
   "cell_type": "code",
   "execution_count": 19,
   "metadata": {},
   "outputs": [
    {
     "name": "stdout",
     "output_type": "stream",
     "text": [
      "enter the first number12\n",
      "enter the second number30\n",
      "lcm is : 60\n"
     ]
    }
   ],
   "source": [
    "\"\"\"lcm of two numbers using method 2\"\"\"\n",
    "def lcm(n1,n2):\n",
    "    m=max(n1,n2)  # m is max of two numbers\n",
    "    i=m           # i is copy of max \n",
    "    while(True):\n",
    "        if i%n1==0  and i%n2==0:   \"\"\"if n1 and n2 divides i which is max then i  is lcm. otherwise generate next multiple of i\"\"\"\n",
    "            lcm=i\n",
    "            print(\"lcm is :\",lcm)\n",
    "            break\n",
    "        else:\n",
    "            pass\n",
    "        i=i+m  # generating the next multiple of max.\n",
    "n1=int(input(\"enter the first number\"))\n",
    "n2=int(input(\"enter the second number\"))\n",
    "lcm(n1,n2)"
   ]
  }
 ],
 "metadata": {
  "kernelspec": {
   "display_name": "Python 3",
   "language": "python",
   "name": "python3"
  },
  "language_info": {
   "codemirror_mode": {
    "name": "ipython",
    "version": 3
   },
   "file_extension": ".py",
   "mimetype": "text/x-python",
   "name": "python",
   "nbconvert_exporter": "python",
   "pygments_lexer": "ipython3",
   "version": "3.7.3"
  }
 },
 "nbformat": 4,
 "nbformat_minor": 2
}
