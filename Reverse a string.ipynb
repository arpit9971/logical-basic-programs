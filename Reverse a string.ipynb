{
 "cells": [
  {
   "cell_type": "code",
   "execution_count": 6,
   "metadata": {},
   "outputs": [
    {
     "name": "stdout",
     "output_type": "stream",
     "text": [
      "enter the string:shubham kumar soni\n",
      "inos ramuk mahbuhs"
     ]
    }
   ],
   "source": [
    "\"\"\"Method1 to Reverse string. \"\"\"\n",
    "str1=input(\"enter the string:\")\n",
    "newstr=\"\"\n",
    "l=len(str1)\n",
    "for i in range (l-1,-1,-1):  # loop starts from l-1 and will go to 0 and increment of -1.\n",
    "    print(str1[i],end='')"
   ]
  },
  {
   "cell_type": "code",
   "execution_count": 8,
   "metadata": {},
   "outputs": [
    {
     "name": "stdout",
     "output_type": "stream",
     "text": [
      "enter the stringarpit\n",
      "tipra\n"
     ]
    }
   ],
   "source": [
    "\"\"\"method 2 to reverse a string\"\"\"\n",
    "str1=input(\"enter the string\")\n",
    "print(str1[::-1])  # syntax is [start,stop,step] where step is increment by which you want increase. here it is -1.\n",
    "'''by default here start and end will be taken , it will get to know that it has to print from back to start\n",
    "by seeing the value of increment which is -1. It indicates that value is to be printed from end to start.'''"
   ]
  },
  {
   "cell_type": "code",
   "execution_count": 11,
   "metadata": {},
   "outputs": [
    {
     "name": "stdout",
     "output_type": "stream",
     "text": [
      "enter the stringshubham soni\n",
      "inos mahbuhs\n"
     ]
    },
    {
     "data": {
      "text/plain": [
       "'reversed() is inbuilt function which takes any iterable and returns list of reversed items in it. we will join\\nthese charcters using join() method to produce resultant output'"
      ]
     },
     "execution_count": 11,
     "metadata": {},
     "output_type": "execute_result"
    }
   ],
   "source": [
    "\"\"\"Method 3 is with help of reversed() and join function.\"\"\"\n",
    "str1=input(\"enter the string\")\n",
    "print(''.join(reversed(str1))) \n",
    "'''reversed() is inbuilt function which takes any iterable and returns list of reversed items in it. we will join\n",
    "these charcters using join() method to produce resultant output'''"
   ]
  }
 ],
 "metadata": {
  "kernelspec": {
   "display_name": "Python 3",
   "language": "python",
   "name": "python3"
  },
  "language_info": {
   "codemirror_mode": {
    "name": "ipython",
    "version": 3
   },
   "file_extension": ".py",
   "mimetype": "text/x-python",
   "name": "python",
   "nbconvert_exporter": "python",
   "pygments_lexer": "ipython3",
   "version": "3.7.3"
  }
 },
 "nbformat": 4,
 "nbformat_minor": 2
}
