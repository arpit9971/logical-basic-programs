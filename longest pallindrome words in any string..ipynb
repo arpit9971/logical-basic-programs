{
 "cells": [
  {
   "cell_type": "code",
   "execution_count": null,
   "metadata": {},
   "outputs": [],
   "source": [
    "def rev_string(st):\n",
    "    new_st=st[::-1]\n",
    "    if new_st==st:\n",
    "        return True\n",
    "    else:\n",
    "        return False\n",
    "st=input(\"enter the string:\")\n",
    "max1=0\n",
    "new_st=st.split()\n",
    "length=len(new_st)\n",
    "for i in range(length):\n",
    "    ans=rev_string(new_st[i])\n",
    "    if ans==True:\n",
    "        max_length=len(new_st[i])\n",
    "        print(new_st[i])\n",
    "        if max_length>max1:\n",
    "            max1=max_length\n",
    "    else:\n",
    "        pass\n",
    "print(\"longest pallindrome length word is\",max1)"
   ]
  },
  {
   "cell_type": "code",
   "execution_count": null,
   "metadata": {},
   "outputs": [],
   "source": []
  }
 ],
 "metadata": {
  "kernelspec": {
   "display_name": "Python 3",
   "language": "python",
   "name": "python3"
  },
  "language_info": {
   "codemirror_mode": {
    "name": "ipython",
    "version": 3
   },
   "file_extension": ".py",
   "mimetype": "text/x-python",
   "name": "python",
   "nbconvert_exporter": "python",
   "pygments_lexer": "ipython3",
   "version": "3.7.3"
  }
 },
 "nbformat": 4,
 "nbformat_minor": 2
}
