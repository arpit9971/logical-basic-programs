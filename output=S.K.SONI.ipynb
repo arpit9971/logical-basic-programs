{
 "cells": [
  {
   "cell_type": "code",
   "execution_count": 3,
   "metadata": {},
   "outputs": [
    {
     "name": "stdout",
     "output_type": "stream",
     "text": [
      "Enter the string:shubham kumar soni\n",
      " S.K.SONI\n"
     ]
    }
   ],
   "source": [
    "str=input(\"Enter the string:\")\n",
    "new_str=\" \"\n",
    "str1=str.split()\n",
    "l=len(str1)\n",
    "for i in range(l):\n",
    "    m=str1[i]\n",
    "    if i==l-1:\n",
    "        new_str=new_str+m.upper()\n",
    "    else:\n",
    "        new_str=new_str+ m[0].upper() +\".\"\n",
    "print(new_str)"
   ]
  }
 ],
 "metadata": {
  "kernelspec": {
   "display_name": "Python 3",
   "language": "python",
   "name": "python3"
  },
  "language_info": {
   "codemirror_mode": {
    "name": "ipython",
    "version": 3
   },
   "file_extension": ".py",
   "mimetype": "text/x-python",
   "name": "python",
   "nbconvert_exporter": "python",
   "pygments_lexer": "ipython3",
   "version": "3.7.3"
  }
 },
 "nbformat": 4,
 "nbformat_minor": 2
}
