{
 "cells": [
  {
   "cell_type": "code",
   "execution_count": 7,
   "metadata": {},
   "outputs": [
    {
     "name": "stdout",
     "output_type": "stream",
     "text": [
      "enter the stringmalayalam\n",
      "The entered string is pallindrome string\n"
     ]
    }
   ],
   "source": [
    "def is_pallindrome():\n",
    "    str1=input(\"enter the string\")\n",
    "    newstr=str1[::-1] \n",
    "    if str1==newstr:\n",
    "        return True\n",
    "    else:\n",
    "        return False\n",
    "ans=is_pallindrome()\n",
    "if ans==1:\n",
    "    print(\"The entered string is pallindrome string\")\n",
    "else:\n",
    "    print(\"The entered string is not pallindrome string\")"
   ]
  },
  {
   "cell_type": "raw",
   "metadata": {},
   "source": []
  },
  {
   "cell_type": "code",
   "execution_count": 7,
   "metadata": {},
   "outputs": [
    {
     "name": "stdout",
     "output_type": "stream",
     "text": [
      "enter the string:malayalam\n",
      "pallindrome string\n"
     ]
    }
   ],
   "source": [
    "def is_pallindrome():\n",
    "    str1=input(\"enter the string:\")\n",
    "    newstr=''\n",
    "    l=len(str1)\n",
    "    for i in range(l-1,-1,-1):\n",
    "        newstr=newstr+str1[i]\n",
    "    if str1==newstr:\n",
    "        return True\n",
    "    else:\n",
    "        return False\n",
    "ans=is_pallindrome()\n",
    "if ans==1:\n",
    "    print(\"pallindrome string\")\n",
    "else:\n",
    "    print(\"Not pallindrome string\")"
   ]
  }
 ],
 "metadata": {
  "kernelspec": {
   "display_name": "Python 3",
   "language": "python",
   "name": "python3"
  },
  "language_info": {
   "codemirror_mode": {
    "name": "ipython",
    "version": 3
   },
   "file_extension": ".py",
   "mimetype": "text/x-python",
   "name": "python",
   "nbconvert_exporter": "python",
   "pygments_lexer": "ipython3",
   "version": "3.7.3"
  }
 },
 "nbformat": 4,
 "nbformat_minor": 2
}
