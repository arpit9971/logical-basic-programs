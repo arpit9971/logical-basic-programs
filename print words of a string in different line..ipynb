{
 "cells": [
  {
   "cell_type": "code",
   "execution_count": 10,
   "metadata": {},
   "outputs": [
    {
     "name": "stdout",
     "output_type": "stream",
     "text": [
      "enter the string:hello dear. how are you\n",
      "hello\n",
      "dear.\n",
      "how\n",
      "are\n",
      "you\n"
     ]
    }
   ],
   "source": [
    "st=input(\"enter the string:\")\n",
    "new_st=st.split()\n",
    "length=len(new_st)\n",
    "for i in range(length):\n",
    "    print(new_st[i])"
   ]
  }
 ],
 "metadata": {
  "kernelspec": {
   "display_name": "Python 3",
   "language": "python",
   "name": "python3"
  },
  "language_info": {
   "codemirror_mode": {
    "name": "ipython",
    "version": 3
   },
   "file_extension": ".py",
   "mimetype": "text/x-python",
   "name": "python",
   "nbconvert_exporter": "python",
   "pygments_lexer": "ipython3",
   "version": "3.7.3"
  }
 },
 "nbformat": 4,
 "nbformat_minor": 2
}
