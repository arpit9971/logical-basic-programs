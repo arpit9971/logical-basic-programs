{
 "cells": [
  {
   "cell_type": "code",
   "execution_count": 11,
   "metadata": {},
   "outputs": [
    {
     "name": "stdout",
     "output_type": "stream",
     "text": [
      "Enter the number:8254\n",
      "answer is = 43\n"
     ]
    }
   ],
   "source": [
    "# if num is 8254 then sum=(8+2+5+4)+(2+5+4)+(5+4)+(4).\n",
    "# LOGIC:everytime you need to remove leftmost digit.\n",
    "# we have reversed the number here and inserted that reversed number in to the list.\n",
    "# after that we have just sum up the numbers using loops.(check it how used to do the sum)\n",
    "n=int(input(\"Enter the number:\"))\n",
    "length=len(str(n))\n",
    "sum=0\n",
    "rev_n=int(str(n)[::-1])\n",
    "l1=[int(x) for x in str(rev_n)]\n",
    "for i in range (length-1,-1,-1):\n",
    "    for j in range(i,-1,-1):\n",
    "        sum=sum+l1[j]\n",
    "print(\"answer is =\",sum)"
   ]
  }
 ],
 "metadata": {
  "kernelspec": {
   "display_name": "Python 3",
   "language": "python",
   "name": "python3"
  },
  "language_info": {
   "codemirror_mode": {
    "name": "ipython",
    "version": 3
   },
   "file_extension": ".py",
   "mimetype": "text/x-python",
   "name": "python",
   "nbconvert_exporter": "python",
   "pygments_lexer": "ipython3",
   "version": "3.7.3"
  }
 },
 "nbformat": 4,
 "nbformat_minor": 2
}
