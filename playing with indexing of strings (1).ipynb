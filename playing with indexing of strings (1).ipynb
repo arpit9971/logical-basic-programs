{
 "cells": [
  {
   "cell_type": "code",
   "execution_count": 16,
   "metadata": {},
   "outputs": [
    {
     "name": "stdout",
     "output_type": "stream",
     "text": [
      "mala\n",
      "malayalam\n",
      "malayal\n",
      "laya\n",
      "m\n",
      "mal\n",
      "ala\n",
      "malayalam\n",
      "malayalam\n",
      "malaya\n",
      "y\n",
      "yala\n",
      "mlylm\n",
      "aaaa\n"
     ]
    }
   ],
   "source": [
    "'''Note: indexing from start to end is from 0 to 7 or 0 to length.\n",
    "but from back it starts from -1 and come infront with -2,-3,-4....\n",
    "indexing is needed to take care of.....'''\n",
    "\n",
    "s='malayalam'\n",
    "print(s[0:4])       #prints from index no 0 to 3.\n",
    "print(s[0:])        #prints from 0 to end.\n",
    "print(s[:7])        #prints from index no 0 to 6. since default value of start is 0.\n",
    "print(s[2:6])       #prints from index no 2 to 5.\n",
    "print(s[-1])        #prints the last charcter.\n",
    "print(s[-1:-4:-1])  #prints from last to index no -4 and increment of -1.\n",
    "print(s[-4:-1])     #print from -4 to -2. increment of 1 , since default value of increment is 1.\n",
    "print(s[::-1])      #print from back to start since increment is -1.\n",
    "print(s[::1])       #print from start to end as increment is 1.\n",
    "print(s[:6:1])      #print from start to index no 5 with increment of 1.\n",
    "print(s[-5])        #print character at index no -5.\n",
    "print(s[-5:-1:1])   #print from index no -5 to index no -2.\n",
    "print(s[::-2])      #print from back to front with increment of -2. since start is default so it starts with -1 and takes -2 increment.\n",
    "print(s[-2::-2])    #start from back with index no -2 and increment of -2 every time . execution from back to front."
   ]
  }
 ],
 "metadata": {
  "kernelspec": {
   "display_name": "Python 3",
   "language": "python",
   "name": "python3"
  },
  "language_info": {
   "codemirror_mode": {
    "name": "ipython",
    "version": 3
   },
   "file_extension": ".py",
   "mimetype": "text/x-python",
   "name": "python",
   "nbconvert_exporter": "python",
   "pygments_lexer": "ipython3",
   "version": "3.7.3"
  }
 },
 "nbformat": 4,
 "nbformat_minor": 2
}
