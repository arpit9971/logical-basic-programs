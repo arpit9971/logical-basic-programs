{
 "cells": [
  {
   "cell_type": "code",
   "execution_count": 13,
   "metadata": {},
   "outputs": [
    {
     "name": "stdout",
     "output_type": "stream",
     "text": [
      "enter the number4321\n",
      "76\n"
     ]
    }
   ],
   "source": [
    "num=int(input(\"enter the number\"))\n",
    "l1=[ int(x) for x in str(num)]  # way to insert any number inside the list\n",
    "length=len(str(num))\n",
    "sum=0\n",
    "for i in range(length-1,-1,-1):\n",
    "    if i==length-1:\n",
    "        sum=sum+pow(l1[i],0)\n",
    "    else:\n",
    "        sum=sum+pow(l1[i],l1[i+1])\n",
    "print(sum)"
   ]
  },
  {
   "cell_type": "code",
   "execution_count": null,
   "metadata": {},
   "outputs": [],
   "source": []
  }
 ],
 "metadata": {
  "kernelspec": {
   "display_name": "Python 3",
   "language": "python",
   "name": "python3"
  },
  "language_info": {
   "codemirror_mode": {
    "name": "ipython",
    "version": 3
   },
   "file_extension": ".py",
   "mimetype": "text/x-python",
   "name": "python",
   "nbconvert_exporter": "python",
   "pygments_lexer": "ipython3",
   "version": "3.7.3"
  }
 },
 "nbformat": 4,
 "nbformat_minor": 2
}
