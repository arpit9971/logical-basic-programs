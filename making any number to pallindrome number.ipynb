{
 "cells": [
  {
   "cell_type": "code",
   "execution_count": 11,
   "metadata": {},
   "outputs": [
    {
     "name": "stdout",
     "output_type": "stream",
     "text": [
      "Enter the number:195\n",
      "pallindrome number: 9339\n"
     ]
    }
   ],
   "source": [
    "def rev(n):\n",
    "    s=0\n",
    "    duplicate=n\n",
    "    while n>0:\n",
    "        r=n%10\n",
    "        s=s*10+r\n",
    "        n=n//10\n",
    "    if s==duplicate:\n",
    "        print(\"pallindrome number:\",s)\n",
    "    else:\n",
    "        add(duplicate,s)\n",
    "def add(n,s):\n",
    "    res=n+s\n",
    "    pallindrome(res)\n",
    "num=int(input(\"Enter the number:\"))\n",
    "rev(num)"
   ]
  },
  {
   "cell_type": "code",
   "execution_count": null,
   "metadata": {},
   "outputs": [],
   "source": []
  },
  {
   "cell_type": "code",
   "execution_count": null,
   "metadata": {},
   "outputs": [],
   "source": []
  }
 ],
 "metadata": {
  "kernelspec": {
   "display_name": "Python 3",
   "language": "python",
   "name": "python3"
  },
  "language_info": {
   "codemirror_mode": {
    "name": "ipython",
    "version": 3
   },
   "file_extension": ".py",
   "mimetype": "text/x-python",
   "name": "python",
   "nbconvert_exporter": "python",
   "pygments_lexer": "ipython3",
   "version": "3.7.3"
  }
 },
 "nbformat": 4,
 "nbformat_minor": 2
}
