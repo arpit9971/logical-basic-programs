{
 "cells": [
  {
   "cell_type": "code",
   "execution_count": 45,
   "metadata": {},
   "outputs": [
    {
     "name": "stdout",
     "output_type": "stream",
     "text": [
      "enter first text:silent\n",
      "enter second text:listen\n",
      "Anagram Strings\n"
     ]
    }
   ],
   "source": [
    "'''Python provides a inbuilt function \"sorted() \"\" which does not modify the original string, but returns sorted string.'''\n",
    "str1=input(\"enter first text:\")\n",
    "str2=input(\"enter second text:\")\n",
    "l1=len(str1)\n",
    "l2=len(str2)\n",
    "count1=0\n",
    "count2=0\n",
    "if l1!=l2:\n",
    "    print(\"OOP'S Not Anagram Strings\")\n",
    "else:\n",
    "    pass\n",
    "new_str1=sorted(str1)\n",
    "new_str2=sorted(str2)\n",
    "for i in new_str1:\n",
    "    for j in new_str2:\n",
    "        if i==j:\n",
    "            count1+=count1\n",
    "            count2+=count2\n",
    "        else:\n",
    "            count1-=count1\n",
    "if count1==count2:\n",
    "    print(\"Anagram Strings\")\n",
    "else:\n",
    "    print(\"Not Anagram Strings\")"
   ]
  },
  {
   "cell_type": "code",
   "execution_count": 38,
   "metadata": {},
   "outputs": [
    {
     "name": "stdout",
     "output_type": "stream",
     "text": [
      "enter first textcat\n",
      "enter second textrat\n",
      "The strings aren't anagrams.\n"
     ]
    }
   ],
   "source": [
    "def check(s1, s2): \n",
    "      \n",
    "    if(sorted(s1)== sorted(s2)): \n",
    "        print(\"The strings are anagrams.\")  \n",
    "    else: \n",
    "        print(\"The strings aren't anagrams.\")          \n",
    "          \n",
    "str1=input(\"enter first text\")\n",
    "str2=input(\"enter second text\") \n",
    "check(str1, str2) \n"
   ]
  },
  {
   "cell_type": "code",
   "execution_count": 42,
   "metadata": {},
   "outputs": [
    {
     "name": "stdout",
     "output_type": "stream",
     "text": [
      "enter first text123456\n",
      "['1', '2', '3', '4', '5', '6']\n",
      "<class 'str'>\n",
      "<class 'list'> [1, 2, 3, 4]\n"
     ]
    }
   ],
   "source": [
    "str1=input(\"enter first text\")\n",
    "print(sorted(str1))\n",
    "print(type(str1))\n",
    "l=[1,2,3,4]\n",
    "print(type(l),l)"
   ]
  }
 ],
 "metadata": {
  "kernelspec": {
   "display_name": "Python 3",
   "language": "python",
   "name": "python3"
  },
  "language_info": {
   "codemirror_mode": {
    "name": "ipython",
    "version": 3
   },
   "file_extension": ".py",
   "mimetype": "text/x-python",
   "name": "python",
   "nbconvert_exporter": "python",
   "pygments_lexer": "ipython3",
   "version": "3.7.3"
  }
 },
 "nbformat": 4,
 "nbformat_minor": 2
}
