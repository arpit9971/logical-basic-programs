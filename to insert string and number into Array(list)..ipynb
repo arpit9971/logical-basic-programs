{
 "cells": [
  {
   "cell_type": "code",
   "execution_count": 7,
   "metadata": {},
   "outputs": [
    {
     "name": "stdout",
     "output_type": "stream",
     "text": [
      "['a', 'r', 'p', 'i', 't', ' ', 'b', 'a', 'j', 'p', 'a', 'i']\n"
     ]
    }
   ],
   "source": [
    "str1='arpit bajpai'\n",
    "l1=[str(x) for x in str1]\n",
    "print(l1)"
   ]
  },
  {
   "cell_type": "code",
   "execution_count": 8,
   "metadata": {},
   "outputs": [
    {
     "name": "stdout",
     "output_type": "stream",
     "text": [
      "[1, 2, 3, 4, 5, 6]\n"
     ]
    }
   ],
   "source": [
    "num=123456\n",
    "l1=[int(x) for x in str(num)] \n",
    "print(l1)"
   ]
  }
 ],
 "metadata": {
  "kernelspec": {
   "display_name": "Python 3",
   "language": "python",
   "name": "python3"
  }
 },
 "nbformat": 4,
 "nbformat_minor": 2
}
