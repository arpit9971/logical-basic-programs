{
 "cells": [
  {
   "cell_type": "code",
   "execution_count": 8,
   "metadata": {},
   "outputs": [
    {
     "name": "stdout",
     "output_type": "stream",
     "text": [
      "Enter the stringhello arpit\n",
      "h#ll# #rp#t\n"
     ]
    }
   ],
   "source": [
    "#conver vowels in string to #\n",
    "str=input(\"Enter the string\")\n",
    "l=len(str)\n",
    "newstr=\"\"  #note strings in python are immutable(unchangeble) means we can't change existing one.\n",
    "for i in range(0,l):  # for this reason we have taken new string and made the changes in that.\n",
    "    if str[i] =='a' or str[i]=='e' or str[i]=='i' or str[i]=='o' or str[i]=='u':\n",
    "        newstr=newstr+'#'\n",
    "    else:\n",
    "        newstr=newstr+str[i]\n",
    "print(newstr)"
   ]
  },
  {
   "cell_type": "code",
   "execution_count": 19,
   "metadata": {},
   "outputs": [
    {
     "name": "stdout",
     "output_type": "stream",
     "text": [
      "Enter the stringarpit\n",
      "a##i#\n"
     ]
    }
   ],
   "source": [
    "#conver consonants in string to #\n",
    "str=input(\"Enter the string\")\n",
    "l=len(str)\n",
    "newstr=\"\"  #note strings in python are immutable(unchangeble) means we can't change existing one.\n",
    "for i in range(0,l):  # for this reason we have taken new string and made the changes in that.\n",
    "    if str[i] =='a' or str[i]=='e' or str[i]=='i' or str[i]=='o' or str[i]=='u':\n",
    "        newstr=newstr +str[i]\n",
    "    else:\n",
    "        newstr=newstr+'#'\n",
    "print(newstr)"
   ]
  },
  {
   "cell_type": "code",
   "execution_count": 21,
   "metadata": {},
   "outputs": [
    {
     "name": "stdout",
     "output_type": "stream",
     "text": [
      "Enter the stringarpit\n",
      "#####\n"
     ]
    }
   ],
   "source": [
    "#funny example\n",
    "str=input(\"Enter the string\")\n",
    "l=len(str)\n",
    "newstr=\"\"  #note strings in python are immutable(unchangeble) means we can't change existing one.\n",
    "for i in range(0,l):  # for this reason we have taken new string and made the changes in that.\n",
    "    if str[i] !='a' or str[i]!='e' or str[i]!='i' or str[i]!='o' or str[i]!='u':\n",
    "        newstr=newstr+'#'\n",
    "    else:\n",
    "        newstr=newstr+ str[i]\n",
    "print(newstr)  # everytime if condition is getting satisfied. It is not going to else."
   ]
  }
 ],
 "metadata": {
  "kernelspec": {
   "display_name": "Python 3",
   "language": "python",
   "name": "python3"
  },
  "language_info": {
   "codemirror_mode": {
    "name": "ipython",
    "version": 3
   },
   "file_extension": ".py",
   "mimetype": "text/x-python",
   "name": "python",
   "nbconvert_exporter": "python",
   "pygments_lexer": "ipython3",
   "version": "3.7.3"
  }
 },
 "nbformat": 4,
 "nbformat_minor": 2
}
